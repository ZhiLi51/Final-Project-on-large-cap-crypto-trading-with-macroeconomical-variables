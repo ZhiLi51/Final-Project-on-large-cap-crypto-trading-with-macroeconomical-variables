{
  "cells": [
    {
      "cell_type": "markdown",
      "metadata": {
        "id": "view-in-github",
        "colab_type": "text"
      },
      "source": [
        "<a href=\"https://colab.research.google.com/github/ZhiLi51/Final-Project-on-large-cap-crypto-trading-with-macroeconomical-variables/blob/main/time_series_prediction.ipynb\" target=\"_parent\"><img src=\"https://colab.research.google.com/assets/colab-badge.svg\" alt=\"Open In Colab\"/></a>"
      ]
    },
    {
      "cell_type": "markdown",
      "metadata": {
        "id": "JMXiEFiYRde2"
      },
      "source": [
        "1. Gathering Data\n",
        "    \n",
        "    \n",
        "2. Data Exploration\n",
        "\n",
        "    2.1. Plotting the Time-series\n",
        "    \n",
        "\n",
        "3. Finding Regressor Inputs\n",
        "\n",
        "    3.1 Autocorrelation plot\n",
        "    \n",
        "    3.2. Creation of Dataset for training\n",
        "    \n",
        "\n",
        "4. Making a Neural Network\n",
        "\n",
        "\n",
        "5. Splitting the data\n",
        "\n",
        "\n",
        "6. Scaling the data\n",
        "\n",
        "\n",
        "7. Training and Validation\n",
        "\n",
        "\n",
        "8. Making Predictions on the test set\n",
        "\n",
        "    8.1 Checking the r2 score\n",
        "    \n",
        "    8.2 Plotting the predictions"
      ]
    },
    {
      "cell_type": "code",
      "source": [
        "pip install yfinance"
      ],
      "metadata": {
        "colab": {
          "base_uri": "https://localhost:8080/"
        },
        "id": "RMIumi5YR7OB",
        "outputId": "b981fecb-1ed2-4924-a812-222f446e8eff"
      },
      "execution_count": 3,
      "outputs": [
        {
          "output_type": "stream",
          "name": "stdout",
          "text": [
            "Collecting yfinance\n",
            "  Downloading yfinance-0.1.70-py2.py3-none-any.whl (26 kB)\n",
            "Requirement already satisfied: multitasking>=0.0.7 in /usr/local/lib/python3.7/dist-packages (from yfinance) (0.0.10)\n",
            "Collecting lxml>=4.5.1\n",
            "  Downloading lxml-4.8.0-cp37-cp37m-manylinux_2_17_x86_64.manylinux2014_x86_64.manylinux_2_24_x86_64.whl (6.4 MB)\n",
            "\u001b[K     |████████████████████████████████| 6.4 MB 7.8 MB/s \n",
            "\u001b[?25hRequirement already satisfied: numpy>=1.15 in /usr/local/lib/python3.7/dist-packages (from yfinance) (1.21.6)\n",
            "Requirement already satisfied: pandas>=0.24.0 in /usr/local/lib/python3.7/dist-packages (from yfinance) (1.3.5)\n",
            "Collecting requests>=2.26\n",
            "  Downloading requests-2.27.1-py2.py3-none-any.whl (63 kB)\n",
            "\u001b[K     |████████████████████████████████| 63 kB 1.5 MB/s \n",
            "\u001b[?25hRequirement already satisfied: pytz>=2017.3 in /usr/local/lib/python3.7/dist-packages (from pandas>=0.24.0->yfinance) (2022.1)\n",
            "Requirement already satisfied: python-dateutil>=2.7.3 in /usr/local/lib/python3.7/dist-packages (from pandas>=0.24.0->yfinance) (2.8.2)\n",
            "Requirement already satisfied: six>=1.5 in /usr/local/lib/python3.7/dist-packages (from python-dateutil>=2.7.3->pandas>=0.24.0->yfinance) (1.15.0)\n",
            "Requirement already satisfied: charset-normalizer~=2.0.0 in /usr/local/lib/python3.7/dist-packages (from requests>=2.26->yfinance) (2.0.12)\n",
            "Requirement already satisfied: idna<4,>=2.5 in /usr/local/lib/python3.7/dist-packages (from requests>=2.26->yfinance) (2.10)\n",
            "Requirement already satisfied: certifi>=2017.4.17 in /usr/local/lib/python3.7/dist-packages (from requests>=2.26->yfinance) (2021.10.8)\n",
            "Requirement already satisfied: urllib3<1.27,>=1.21.1 in /usr/local/lib/python3.7/dist-packages (from requests>=2.26->yfinance) (1.24.3)\n",
            "Installing collected packages: requests, lxml, yfinance\n",
            "  Attempting uninstall: requests\n",
            "    Found existing installation: requests 2.23.0\n",
            "    Uninstalling requests-2.23.0:\n",
            "      Successfully uninstalled requests-2.23.0\n",
            "  Attempting uninstall: lxml\n",
            "    Found existing installation: lxml 4.2.6\n",
            "    Uninstalling lxml-4.2.6:\n",
            "      Successfully uninstalled lxml-4.2.6\n",
            "\u001b[31mERROR: pip's dependency resolver does not currently take into account all the packages that are installed. This behaviour is the source of the following dependency conflicts.\n",
            "google-colab 1.0.0 requires requests~=2.23.0, but you have requests 2.27.1 which is incompatible.\n",
            "datascience 0.10.6 requires folium==0.2.1, but you have folium 0.8.3 which is incompatible.\u001b[0m\n",
            "Successfully installed lxml-4.8.0 requests-2.27.1 yfinance-0.1.70\n"
          ]
        }
      ]
    },
    {
      "cell_type": "code",
      "execution_count": 15,
      "metadata": {
        "colab": {
          "base_uri": "https://localhost:8080/"
        },
        "id": "U4J5YbYfRdfA",
        "outputId": "6f672085-7df5-48b3-d0b2-56dbcff730ee"
      },
      "outputs": [
        {
          "output_type": "stream",
          "name": "stdout",
          "text": [
            "\r[*********************100%***********************]  1 of 1 completed\n"
          ]
        }
      ],
      "source": [
        "import yfinance as yf\n",
        "df = yf.download('BTC-USD','2017-01-02','2022-05-10')"
      ]
    },
    {
      "cell_type": "markdown",
      "metadata": {
        "id": "XUuMwzacRdfD"
      },
      "source": [
        "**2. Data Exploration**\n",
        "\n",
        "Let's have a quick look first"
      ]
    },
    {
      "cell_type": "code",
      "source": [
        "import pandas as pd"
      ],
      "metadata": {
        "id": "wses8OLESV31"
      },
      "execution_count": 16,
      "outputs": []
    },
    {
      "cell_type": "code",
      "source": [
        "df.columns"
      ],
      "metadata": {
        "colab": {
          "base_uri": "https://localhost:8080/"
        },
        "id": "bq0VYBoISuBy",
        "outputId": "cd5af877-5265-4d40-db48-dc9907e3b9ba"
      },
      "execution_count": 17,
      "outputs": [
        {
          "output_type": "execute_result",
          "data": {
            "text/plain": [
              "Index(['Open', 'High', 'Low', 'Close', 'Adj Close', 'Volume'], dtype='object')"
            ]
          },
          "metadata": {},
          "execution_count": 17
        }
      ]
    },
    {
      "cell_type": "code",
      "execution_count": 18,
      "metadata": {
        "colab": {
          "base_uri": "https://localhost:8080/",
          "height": 237
        },
        "id": "KptS86quRdfD",
        "outputId": "be23eb8a-c415-4dd6-e598-19fe118edd48"
      },
      "outputs": [
        {
          "output_type": "execute_result",
          "data": {
            "text/plain": [
              "                    Open          High           Low         Close  \\\n",
              "Date                                                                 \n",
              "2022-05-06  36573.183594  36624.359375  35482.132812  36040.921875   \n",
              "2022-05-07  36042.503906  36129.925781  34940.824219  35501.953125   \n",
              "2022-05-08  35502.941406  35502.941406  33878.964844  34059.265625   \n",
              "2022-05-09  34060.015625  34222.074219  30296.953125  30296.953125   \n",
              "2022-05-10  30273.654297  32596.308594  29944.802734  31022.906250   \n",
              "\n",
              "               Adj Close       Volume  \n",
              "Date                                   \n",
              "2022-05-06  36040.921875  37795577489  \n",
              "2022-05-07  35501.953125  24375896406  \n",
              "2022-05-08  34059.265625  36763041910  \n",
              "2022-05-09  30296.953125  63355494961  \n",
              "2022-05-10  31022.906250  59811038817  "
            ],
            "text/html": [
              "\n",
              "  <div id=\"df-4d025d55-25bb-4471-846a-87d464deba65\">\n",
              "    <div class=\"colab-df-container\">\n",
              "      <div>\n",
              "<style scoped>\n",
              "    .dataframe tbody tr th:only-of-type {\n",
              "        vertical-align: middle;\n",
              "    }\n",
              "\n",
              "    .dataframe tbody tr th {\n",
              "        vertical-align: top;\n",
              "    }\n",
              "\n",
              "    .dataframe thead th {\n",
              "        text-align: right;\n",
              "    }\n",
              "</style>\n",
              "<table border=\"1\" class=\"dataframe\">\n",
              "  <thead>\n",
              "    <tr style=\"text-align: right;\">\n",
              "      <th></th>\n",
              "      <th>Open</th>\n",
              "      <th>High</th>\n",
              "      <th>Low</th>\n",
              "      <th>Close</th>\n",
              "      <th>Adj Close</th>\n",
              "      <th>Volume</th>\n",
              "    </tr>\n",
              "    <tr>\n",
              "      <th>Date</th>\n",
              "      <th></th>\n",
              "      <th></th>\n",
              "      <th></th>\n",
              "      <th></th>\n",
              "      <th></th>\n",
              "      <th></th>\n",
              "    </tr>\n",
              "  </thead>\n",
              "  <tbody>\n",
              "    <tr>\n",
              "      <th>2022-05-06</th>\n",
              "      <td>36573.183594</td>\n",
              "      <td>36624.359375</td>\n",
              "      <td>35482.132812</td>\n",
              "      <td>36040.921875</td>\n",
              "      <td>36040.921875</td>\n",
              "      <td>37795577489</td>\n",
              "    </tr>\n",
              "    <tr>\n",
              "      <th>2022-05-07</th>\n",
              "      <td>36042.503906</td>\n",
              "      <td>36129.925781</td>\n",
              "      <td>34940.824219</td>\n",
              "      <td>35501.953125</td>\n",
              "      <td>35501.953125</td>\n",
              "      <td>24375896406</td>\n",
              "    </tr>\n",
              "    <tr>\n",
              "      <th>2022-05-08</th>\n",
              "      <td>35502.941406</td>\n",
              "      <td>35502.941406</td>\n",
              "      <td>33878.964844</td>\n",
              "      <td>34059.265625</td>\n",
              "      <td>34059.265625</td>\n",
              "      <td>36763041910</td>\n",
              "    </tr>\n",
              "    <tr>\n",
              "      <th>2022-05-09</th>\n",
              "      <td>34060.015625</td>\n",
              "      <td>34222.074219</td>\n",
              "      <td>30296.953125</td>\n",
              "      <td>30296.953125</td>\n",
              "      <td>30296.953125</td>\n",
              "      <td>63355494961</td>\n",
              "    </tr>\n",
              "    <tr>\n",
              "      <th>2022-05-10</th>\n",
              "      <td>30273.654297</td>\n",
              "      <td>32596.308594</td>\n",
              "      <td>29944.802734</td>\n",
              "      <td>31022.906250</td>\n",
              "      <td>31022.906250</td>\n",
              "      <td>59811038817</td>\n",
              "    </tr>\n",
              "  </tbody>\n",
              "</table>\n",
              "</div>\n",
              "      <button class=\"colab-df-convert\" onclick=\"convertToInteractive('df-4d025d55-25bb-4471-846a-87d464deba65')\"\n",
              "              title=\"Convert this dataframe to an interactive table.\"\n",
              "              style=\"display:none;\">\n",
              "        \n",
              "  <svg xmlns=\"http://www.w3.org/2000/svg\" height=\"24px\"viewBox=\"0 0 24 24\"\n",
              "       width=\"24px\">\n",
              "    <path d=\"M0 0h24v24H0V0z\" fill=\"none\"/>\n",
              "    <path d=\"M18.56 5.44l.94 2.06.94-2.06 2.06-.94-2.06-.94-.94-2.06-.94 2.06-2.06.94zm-11 1L8.5 8.5l.94-2.06 2.06-.94-2.06-.94L8.5 2.5l-.94 2.06-2.06.94zm10 10l.94 2.06.94-2.06 2.06-.94-2.06-.94-.94-2.06-.94 2.06-2.06.94z\"/><path d=\"M17.41 7.96l-1.37-1.37c-.4-.4-.92-.59-1.43-.59-.52 0-1.04.2-1.43.59L10.3 9.45l-7.72 7.72c-.78.78-.78 2.05 0 2.83L4 21.41c.39.39.9.59 1.41.59.51 0 1.02-.2 1.41-.59l7.78-7.78 2.81-2.81c.8-.78.8-2.07 0-2.86zM5.41 20L4 18.59l7.72-7.72 1.47 1.35L5.41 20z\"/>\n",
              "  </svg>\n",
              "      </button>\n",
              "      \n",
              "  <style>\n",
              "    .colab-df-container {\n",
              "      display:flex;\n",
              "      flex-wrap:wrap;\n",
              "      gap: 12px;\n",
              "    }\n",
              "\n",
              "    .colab-df-convert {\n",
              "      background-color: #E8F0FE;\n",
              "      border: none;\n",
              "      border-radius: 50%;\n",
              "      cursor: pointer;\n",
              "      display: none;\n",
              "      fill: #1967D2;\n",
              "      height: 32px;\n",
              "      padding: 0 0 0 0;\n",
              "      width: 32px;\n",
              "    }\n",
              "\n",
              "    .colab-df-convert:hover {\n",
              "      background-color: #E2EBFA;\n",
              "      box-shadow: 0px 1px 2px rgba(60, 64, 67, 0.3), 0px 1px 3px 1px rgba(60, 64, 67, 0.15);\n",
              "      fill: #174EA6;\n",
              "    }\n",
              "\n",
              "    [theme=dark] .colab-df-convert {\n",
              "      background-color: #3B4455;\n",
              "      fill: #D2E3FC;\n",
              "    }\n",
              "\n",
              "    [theme=dark] .colab-df-convert:hover {\n",
              "      background-color: #434B5C;\n",
              "      box-shadow: 0px 1px 3px 1px rgba(0, 0, 0, 0.15);\n",
              "      filter: drop-shadow(0px 1px 2px rgba(0, 0, 0, 0.3));\n",
              "      fill: #FFFFFF;\n",
              "    }\n",
              "  </style>\n",
              "\n",
              "      <script>\n",
              "        const buttonEl =\n",
              "          document.querySelector('#df-4d025d55-25bb-4471-846a-87d464deba65 button.colab-df-convert');\n",
              "        buttonEl.style.display =\n",
              "          google.colab.kernel.accessAllowed ? 'block' : 'none';\n",
              "\n",
              "        async function convertToInteractive(key) {\n",
              "          const element = document.querySelector('#df-4d025d55-25bb-4471-846a-87d464deba65');\n",
              "          const dataTable =\n",
              "            await google.colab.kernel.invokeFunction('convertToInteractive',\n",
              "                                                     [key], {});\n",
              "          if (!dataTable) return;\n",
              "\n",
              "          const docLinkHtml = 'Like what you see? Visit the ' +\n",
              "            '<a target=\"_blank\" href=https://colab.research.google.com/notebooks/data_table.ipynb>data table notebook</a>'\n",
              "            + ' to learn more about interactive tables.';\n",
              "          element.innerHTML = '';\n",
              "          dataTable['output_type'] = 'display_data';\n",
              "          await google.colab.output.renderOutput(dataTable, element);\n",
              "          const docLink = document.createElement('div');\n",
              "          docLink.innerHTML = docLinkHtml;\n",
              "          element.appendChild(docLink);\n",
              "        }\n",
              "      </script>\n",
              "    </div>\n",
              "  </div>\n",
              "  "
            ]
          },
          "metadata": {},
          "execution_count": 18
        }
      ],
      "source": [
        "df.tail()"
      ]
    },
    {
      "cell_type": "markdown",
      "metadata": {
        "id": "TBj0IIAvRdfD"
      },
      "source": [
        "So, we have a datetime column, which is nice. \n",
        "\n",
        "Then the opening value at the start of every trading day, the closing values at whatever time traders must have call it a day, the highest and lowest values during each, and two other columns which I'm not so sure about, so I won't bother.\n",
        "\n",
        "What we are interested in is just the closing value."
      ]
    },
    {
      "cell_type": "code",
      "execution_count": 10,
      "metadata": {
        "id": "cftHRxCyRdfE"
      },
      "outputs": [],
      "source": [
        "df_close = pd.DataFrame(df['Close'])"
      ]
    },
    {
      "cell_type": "code",
      "execution_count": 12,
      "metadata": {
        "colab": {
          "base_uri": "https://localhost:8080/",
          "height": 523
        },
        "id": "eUy0bPjBRdfE",
        "outputId": "0b8222b6-ef4a-466e-e01b-348375152c18"
      },
      "outputs": [
        {
          "output_type": "error",
          "ename": "KeyError",
          "evalue": "ignored",
          "traceback": [
            "\u001b[0;31m---------------------------------------------------------------------------\u001b[0m",
            "\u001b[0;31mKeyError\u001b[0m                                  Traceback (most recent call last)",
            "\u001b[0;32m/usr/local/lib/python3.7/dist-packages/pandas/core/indexes/base.py\u001b[0m in \u001b[0;36mget_loc\u001b[0;34m(self, key, method, tolerance)\u001b[0m\n\u001b[1;32m   3360\u001b[0m             \u001b[0;32mtry\u001b[0m\u001b[0;34m:\u001b[0m\u001b[0;34m\u001b[0m\u001b[0;34m\u001b[0m\u001b[0m\n\u001b[0;32m-> 3361\u001b[0;31m                 \u001b[0;32mreturn\u001b[0m \u001b[0mself\u001b[0m\u001b[0;34m.\u001b[0m\u001b[0m_engine\u001b[0m\u001b[0;34m.\u001b[0m\u001b[0mget_loc\u001b[0m\u001b[0;34m(\u001b[0m\u001b[0mcasted_key\u001b[0m\u001b[0;34m)\u001b[0m\u001b[0;34m\u001b[0m\u001b[0;34m\u001b[0m\u001b[0m\n\u001b[0m\u001b[1;32m   3362\u001b[0m             \u001b[0;32mexcept\u001b[0m \u001b[0mKeyError\u001b[0m \u001b[0;32mas\u001b[0m \u001b[0merr\u001b[0m\u001b[0;34m:\u001b[0m\u001b[0;34m\u001b[0m\u001b[0;34m\u001b[0m\u001b[0m\n",
            "\u001b[0;32m/usr/local/lib/python3.7/dist-packages/pandas/_libs/index.pyx\u001b[0m in \u001b[0;36mpandas._libs.index.IndexEngine.get_loc\u001b[0;34m()\u001b[0m\n",
            "\u001b[0;32m/usr/local/lib/python3.7/dist-packages/pandas/_libs/index.pyx\u001b[0m in \u001b[0;36mpandas._libs.index.IndexEngine.get_loc\u001b[0;34m()\u001b[0m\n",
            "\u001b[0;32mpandas/_libs/hashtable_class_helper.pxi\u001b[0m in \u001b[0;36mpandas._libs.hashtable.PyObjectHashTable.get_item\u001b[0;34m()\u001b[0m\n",
            "\u001b[0;32mpandas/_libs/hashtable_class_helper.pxi\u001b[0m in \u001b[0;36mpandas._libs.hashtable.PyObjectHashTable.get_item\u001b[0;34m()\u001b[0m\n",
            "\u001b[0;31mKeyError\u001b[0m: 'Date'",
            "\nThe above exception was the direct cause of the following exception:\n",
            "\u001b[0;31mKeyError\u001b[0m                                  Traceback (most recent call last)",
            "\u001b[0;32m<ipython-input-12-b21e8e27152c>\u001b[0m in \u001b[0;36m<module>\u001b[0;34m()\u001b[0m\n\u001b[0;32m----> 1\u001b[0;31m \u001b[0mdf_close\u001b[0m\u001b[0;34m.\u001b[0m\u001b[0mindex\u001b[0m \u001b[0;34m=\u001b[0m \u001b[0mpd\u001b[0m\u001b[0;34m.\u001b[0m\u001b[0mto_datetime\u001b[0m\u001b[0;34m(\u001b[0m\u001b[0mdf\u001b[0m\u001b[0;34m[\u001b[0m\u001b[0;34m'Date'\u001b[0m\u001b[0;34m]\u001b[0m\u001b[0;34m)\u001b[0m\u001b[0;34m\u001b[0m\u001b[0;34m\u001b[0m\u001b[0m\n\u001b[0m",
            "\u001b[0;32m/usr/local/lib/python3.7/dist-packages/pandas/core/frame.py\u001b[0m in \u001b[0;36m__getitem__\u001b[0;34m(self, key)\u001b[0m\n\u001b[1;32m   3456\u001b[0m             \u001b[0;32mif\u001b[0m \u001b[0mself\u001b[0m\u001b[0;34m.\u001b[0m\u001b[0mcolumns\u001b[0m\u001b[0;34m.\u001b[0m\u001b[0mnlevels\u001b[0m \u001b[0;34m>\u001b[0m \u001b[0;36m1\u001b[0m\u001b[0;34m:\u001b[0m\u001b[0;34m\u001b[0m\u001b[0;34m\u001b[0m\u001b[0m\n\u001b[1;32m   3457\u001b[0m                 \u001b[0;32mreturn\u001b[0m \u001b[0mself\u001b[0m\u001b[0;34m.\u001b[0m\u001b[0m_getitem_multilevel\u001b[0m\u001b[0;34m(\u001b[0m\u001b[0mkey\u001b[0m\u001b[0;34m)\u001b[0m\u001b[0;34m\u001b[0m\u001b[0;34m\u001b[0m\u001b[0m\n\u001b[0;32m-> 3458\u001b[0;31m             \u001b[0mindexer\u001b[0m \u001b[0;34m=\u001b[0m \u001b[0mself\u001b[0m\u001b[0;34m.\u001b[0m\u001b[0mcolumns\u001b[0m\u001b[0;34m.\u001b[0m\u001b[0mget_loc\u001b[0m\u001b[0;34m(\u001b[0m\u001b[0mkey\u001b[0m\u001b[0;34m)\u001b[0m\u001b[0;34m\u001b[0m\u001b[0;34m\u001b[0m\u001b[0m\n\u001b[0m\u001b[1;32m   3459\u001b[0m             \u001b[0;32mif\u001b[0m \u001b[0mis_integer\u001b[0m\u001b[0;34m(\u001b[0m\u001b[0mindexer\u001b[0m\u001b[0;34m)\u001b[0m\u001b[0;34m:\u001b[0m\u001b[0;34m\u001b[0m\u001b[0;34m\u001b[0m\u001b[0m\n\u001b[1;32m   3460\u001b[0m                 \u001b[0mindexer\u001b[0m \u001b[0;34m=\u001b[0m \u001b[0;34m[\u001b[0m\u001b[0mindexer\u001b[0m\u001b[0;34m]\u001b[0m\u001b[0;34m\u001b[0m\u001b[0;34m\u001b[0m\u001b[0m\n",
            "\u001b[0;32m/usr/local/lib/python3.7/dist-packages/pandas/core/indexes/base.py\u001b[0m in \u001b[0;36mget_loc\u001b[0;34m(self, key, method, tolerance)\u001b[0m\n\u001b[1;32m   3361\u001b[0m                 \u001b[0;32mreturn\u001b[0m \u001b[0mself\u001b[0m\u001b[0;34m.\u001b[0m\u001b[0m_engine\u001b[0m\u001b[0;34m.\u001b[0m\u001b[0mget_loc\u001b[0m\u001b[0;34m(\u001b[0m\u001b[0mcasted_key\u001b[0m\u001b[0;34m)\u001b[0m\u001b[0;34m\u001b[0m\u001b[0;34m\u001b[0m\u001b[0m\n\u001b[1;32m   3362\u001b[0m             \u001b[0;32mexcept\u001b[0m \u001b[0mKeyError\u001b[0m \u001b[0;32mas\u001b[0m \u001b[0merr\u001b[0m\u001b[0;34m:\u001b[0m\u001b[0;34m\u001b[0m\u001b[0;34m\u001b[0m\u001b[0m\n\u001b[0;32m-> 3363\u001b[0;31m                 \u001b[0;32mraise\u001b[0m \u001b[0mKeyError\u001b[0m\u001b[0;34m(\u001b[0m\u001b[0mkey\u001b[0m\u001b[0;34m)\u001b[0m \u001b[0;32mfrom\u001b[0m \u001b[0merr\u001b[0m\u001b[0;34m\u001b[0m\u001b[0;34m\u001b[0m\u001b[0m\n\u001b[0m\u001b[1;32m   3364\u001b[0m \u001b[0;34m\u001b[0m\u001b[0m\n\u001b[1;32m   3365\u001b[0m         \u001b[0;32mif\u001b[0m \u001b[0mis_scalar\u001b[0m\u001b[0;34m(\u001b[0m\u001b[0mkey\u001b[0m\u001b[0;34m)\u001b[0m \u001b[0;32mand\u001b[0m \u001b[0misna\u001b[0m\u001b[0;34m(\u001b[0m\u001b[0mkey\u001b[0m\u001b[0;34m)\u001b[0m \u001b[0;32mand\u001b[0m \u001b[0;32mnot\u001b[0m \u001b[0mself\u001b[0m\u001b[0;34m.\u001b[0m\u001b[0mhasnans\u001b[0m\u001b[0;34m:\u001b[0m\u001b[0;34m\u001b[0m\u001b[0;34m\u001b[0m\u001b[0m\n",
            "\u001b[0;31mKeyError\u001b[0m: 'Date'"
          ]
        }
      ],
      "source": [
        "df_close.index = pd.to_datetime(df['Date'])"
      ]
    },
    {
      "cell_type": "markdown",
      "metadata": {
        "id": "IF_oNuv1RdfE"
      },
      "source": [
        "It's better to have the DataFrame index in datetime format (pd.datetime) since it makes plotting, and slicing easier"
      ]
    },
    {
      "cell_type": "code",
      "execution_count": 19,
      "metadata": {
        "colab": {
          "base_uri": "https://localhost:8080/"
        },
        "id": "rZB09qTJRdfF",
        "outputId": "1062dfca-bc73-4fab-f386-7c42d1a580ab"
      },
      "outputs": [
        {
          "output_type": "execute_result",
          "data": {
            "text/plain": [
              "DatetimeIndex(['2017-01-02', '2017-01-03', '2017-01-04', '2017-01-05',\n",
              "               '2017-01-06', '2017-01-07', '2017-01-08', '2017-01-09',\n",
              "               '2017-01-10', '2017-01-11',\n",
              "               ...\n",
              "               '2022-05-01', '2022-05-02', '2022-05-03', '2022-05-04',\n",
              "               '2022-05-05', '2022-05-06', '2022-05-07', '2022-05-08',\n",
              "               '2022-05-09', '2022-05-10'],\n",
              "              dtype='datetime64[ns]', name='Date', length=1955, freq=None)"
            ]
          },
          "metadata": {},
          "execution_count": 19
        }
      ],
      "source": [
        "df_close.index"
      ]
    },
    {
      "cell_type": "code",
      "execution_count": 20,
      "metadata": {
        "colab": {
          "base_uri": "https://localhost:8080/",
          "height": 237
        },
        "id": "4dSYGLBqRdfF",
        "outputId": "3651d968-08f1-483e-f8b8-79afc925e868"
      },
      "outputs": [
        {
          "output_type": "execute_result",
          "data": {
            "text/plain": [
              "                  Close\n",
              "Date                   \n",
              "2017-01-02  1021.750000\n",
              "2017-01-03  1043.839966\n",
              "2017-01-04  1154.729980\n",
              "2017-01-05  1013.380005\n",
              "2017-01-06   902.200989"
            ],
            "text/html": [
              "\n",
              "  <div id=\"df-54bee568-c4fa-4d95-a4cb-b76d6a24db0d\">\n",
              "    <div class=\"colab-df-container\">\n",
              "      <div>\n",
              "<style scoped>\n",
              "    .dataframe tbody tr th:only-of-type {\n",
              "        vertical-align: middle;\n",
              "    }\n",
              "\n",
              "    .dataframe tbody tr th {\n",
              "        vertical-align: top;\n",
              "    }\n",
              "\n",
              "    .dataframe thead th {\n",
              "        text-align: right;\n",
              "    }\n",
              "</style>\n",
              "<table border=\"1\" class=\"dataframe\">\n",
              "  <thead>\n",
              "    <tr style=\"text-align: right;\">\n",
              "      <th></th>\n",
              "      <th>Close</th>\n",
              "    </tr>\n",
              "    <tr>\n",
              "      <th>Date</th>\n",
              "      <th></th>\n",
              "    </tr>\n",
              "  </thead>\n",
              "  <tbody>\n",
              "    <tr>\n",
              "      <th>2017-01-02</th>\n",
              "      <td>1021.750000</td>\n",
              "    </tr>\n",
              "    <tr>\n",
              "      <th>2017-01-03</th>\n",
              "      <td>1043.839966</td>\n",
              "    </tr>\n",
              "    <tr>\n",
              "      <th>2017-01-04</th>\n",
              "      <td>1154.729980</td>\n",
              "    </tr>\n",
              "    <tr>\n",
              "      <th>2017-01-05</th>\n",
              "      <td>1013.380005</td>\n",
              "    </tr>\n",
              "    <tr>\n",
              "      <th>2017-01-06</th>\n",
              "      <td>902.200989</td>\n",
              "    </tr>\n",
              "  </tbody>\n",
              "</table>\n",
              "</div>\n",
              "      <button class=\"colab-df-convert\" onclick=\"convertToInteractive('df-54bee568-c4fa-4d95-a4cb-b76d6a24db0d')\"\n",
              "              title=\"Convert this dataframe to an interactive table.\"\n",
              "              style=\"display:none;\">\n",
              "        \n",
              "  <svg xmlns=\"http://www.w3.org/2000/svg\" height=\"24px\"viewBox=\"0 0 24 24\"\n",
              "       width=\"24px\">\n",
              "    <path d=\"M0 0h24v24H0V0z\" fill=\"none\"/>\n",
              "    <path d=\"M18.56 5.44l.94 2.06.94-2.06 2.06-.94-2.06-.94-.94-2.06-.94 2.06-2.06.94zm-11 1L8.5 8.5l.94-2.06 2.06-.94-2.06-.94L8.5 2.5l-.94 2.06-2.06.94zm10 10l.94 2.06.94-2.06 2.06-.94-2.06-.94-.94-2.06-.94 2.06-2.06.94z\"/><path d=\"M17.41 7.96l-1.37-1.37c-.4-.4-.92-.59-1.43-.59-.52 0-1.04.2-1.43.59L10.3 9.45l-7.72 7.72c-.78.78-.78 2.05 0 2.83L4 21.41c.39.39.9.59 1.41.59.51 0 1.02-.2 1.41-.59l7.78-7.78 2.81-2.81c.8-.78.8-2.07 0-2.86zM5.41 20L4 18.59l7.72-7.72 1.47 1.35L5.41 20z\"/>\n",
              "  </svg>\n",
              "      </button>\n",
              "      \n",
              "  <style>\n",
              "    .colab-df-container {\n",
              "      display:flex;\n",
              "      flex-wrap:wrap;\n",
              "      gap: 12px;\n",
              "    }\n",
              "\n",
              "    .colab-df-convert {\n",
              "      background-color: #E8F0FE;\n",
              "      border: none;\n",
              "      border-radius: 50%;\n",
              "      cursor: pointer;\n",
              "      display: none;\n",
              "      fill: #1967D2;\n",
              "      height: 32px;\n",
              "      padding: 0 0 0 0;\n",
              "      width: 32px;\n",
              "    }\n",
              "\n",
              "    .colab-df-convert:hover {\n",
              "      background-color: #E2EBFA;\n",
              "      box-shadow: 0px 1px 2px rgba(60, 64, 67, 0.3), 0px 1px 3px 1px rgba(60, 64, 67, 0.15);\n",
              "      fill: #174EA6;\n",
              "    }\n",
              "\n",
              "    [theme=dark] .colab-df-convert {\n",
              "      background-color: #3B4455;\n",
              "      fill: #D2E3FC;\n",
              "    }\n",
              "\n",
              "    [theme=dark] .colab-df-convert:hover {\n",
              "      background-color: #434B5C;\n",
              "      box-shadow: 0px 1px 3px 1px rgba(0, 0, 0, 0.15);\n",
              "      filter: drop-shadow(0px 1px 2px rgba(0, 0, 0, 0.3));\n",
              "      fill: #FFFFFF;\n",
              "    }\n",
              "  </style>\n",
              "\n",
              "      <script>\n",
              "        const buttonEl =\n",
              "          document.querySelector('#df-54bee568-c4fa-4d95-a4cb-b76d6a24db0d button.colab-df-convert');\n",
              "        buttonEl.style.display =\n",
              "          google.colab.kernel.accessAllowed ? 'block' : 'none';\n",
              "\n",
              "        async function convertToInteractive(key) {\n",
              "          const element = document.querySelector('#df-54bee568-c4fa-4d95-a4cb-b76d6a24db0d');\n",
              "          const dataTable =\n",
              "            await google.colab.kernel.invokeFunction('convertToInteractive',\n",
              "                                                     [key], {});\n",
              "          if (!dataTable) return;\n",
              "\n",
              "          const docLinkHtml = 'Like what you see? Visit the ' +\n",
              "            '<a target=\"_blank\" href=https://colab.research.google.com/notebooks/data_table.ipynb>data table notebook</a>'\n",
              "            + ' to learn more about interactive tables.';\n",
              "          element.innerHTML = '';\n",
              "          dataTable['output_type'] = 'display_data';\n",
              "          await google.colab.output.renderOutput(dataTable, element);\n",
              "          const docLink = document.createElement('div');\n",
              "          docLink.innerHTML = docLinkHtml;\n",
              "          element.appendChild(docLink);\n",
              "        }\n",
              "      </script>\n",
              "    </div>\n",
              "  </div>\n",
              "  "
            ]
          },
          "metadata": {},
          "execution_count": 20
        }
      ],
      "source": [
        "df_close.head()"
      ]
    },
    {
      "cell_type": "code",
      "execution_count": 21,
      "metadata": {
        "colab": {
          "base_uri": "https://localhost:8080/",
          "height": 300
        },
        "id": "aJUB9wjeRdfF",
        "outputId": "744b5781-1fd5-429f-dbf8-50e39ca99562"
      },
      "outputs": [
        {
          "output_type": "execute_result",
          "data": {
            "text/plain": [
              "              Close\n",
              "count   1955.000000\n",
              "mean   17199.649225\n",
              "std    17614.143352\n",
              "min      777.757019\n",
              "25%     6112.099854\n",
              "50%     9081.762695\n",
              "75%    30924.302734\n",
              "max    67566.828125"
            ],
            "text/html": [
              "\n",
              "  <div id=\"df-5f1fd98b-e6d0-4fcd-895d-1bd0fdc1085c\">\n",
              "    <div class=\"colab-df-container\">\n",
              "      <div>\n",
              "<style scoped>\n",
              "    .dataframe tbody tr th:only-of-type {\n",
              "        vertical-align: middle;\n",
              "    }\n",
              "\n",
              "    .dataframe tbody tr th {\n",
              "        vertical-align: top;\n",
              "    }\n",
              "\n",
              "    .dataframe thead th {\n",
              "        text-align: right;\n",
              "    }\n",
              "</style>\n",
              "<table border=\"1\" class=\"dataframe\">\n",
              "  <thead>\n",
              "    <tr style=\"text-align: right;\">\n",
              "      <th></th>\n",
              "      <th>Close</th>\n",
              "    </tr>\n",
              "  </thead>\n",
              "  <tbody>\n",
              "    <tr>\n",
              "      <th>count</th>\n",
              "      <td>1955.000000</td>\n",
              "    </tr>\n",
              "    <tr>\n",
              "      <th>mean</th>\n",
              "      <td>17199.649225</td>\n",
              "    </tr>\n",
              "    <tr>\n",
              "      <th>std</th>\n",
              "      <td>17614.143352</td>\n",
              "    </tr>\n",
              "    <tr>\n",
              "      <th>min</th>\n",
              "      <td>777.757019</td>\n",
              "    </tr>\n",
              "    <tr>\n",
              "      <th>25%</th>\n",
              "      <td>6112.099854</td>\n",
              "    </tr>\n",
              "    <tr>\n",
              "      <th>50%</th>\n",
              "      <td>9081.762695</td>\n",
              "    </tr>\n",
              "    <tr>\n",
              "      <th>75%</th>\n",
              "      <td>30924.302734</td>\n",
              "    </tr>\n",
              "    <tr>\n",
              "      <th>max</th>\n",
              "      <td>67566.828125</td>\n",
              "    </tr>\n",
              "  </tbody>\n",
              "</table>\n",
              "</div>\n",
              "      <button class=\"colab-df-convert\" onclick=\"convertToInteractive('df-5f1fd98b-e6d0-4fcd-895d-1bd0fdc1085c')\"\n",
              "              title=\"Convert this dataframe to an interactive table.\"\n",
              "              style=\"display:none;\">\n",
              "        \n",
              "  <svg xmlns=\"http://www.w3.org/2000/svg\" height=\"24px\"viewBox=\"0 0 24 24\"\n",
              "       width=\"24px\">\n",
              "    <path d=\"M0 0h24v24H0V0z\" fill=\"none\"/>\n",
              "    <path d=\"M18.56 5.44l.94 2.06.94-2.06 2.06-.94-2.06-.94-.94-2.06-.94 2.06-2.06.94zm-11 1L8.5 8.5l.94-2.06 2.06-.94-2.06-.94L8.5 2.5l-.94 2.06-2.06.94zm10 10l.94 2.06.94-2.06 2.06-.94-2.06-.94-.94-2.06-.94 2.06-2.06.94z\"/><path d=\"M17.41 7.96l-1.37-1.37c-.4-.4-.92-.59-1.43-.59-.52 0-1.04.2-1.43.59L10.3 9.45l-7.72 7.72c-.78.78-.78 2.05 0 2.83L4 21.41c.39.39.9.59 1.41.59.51 0 1.02-.2 1.41-.59l7.78-7.78 2.81-2.81c.8-.78.8-2.07 0-2.86zM5.41 20L4 18.59l7.72-7.72 1.47 1.35L5.41 20z\"/>\n",
              "  </svg>\n",
              "      </button>\n",
              "      \n",
              "  <style>\n",
              "    .colab-df-container {\n",
              "      display:flex;\n",
              "      flex-wrap:wrap;\n",
              "      gap: 12px;\n",
              "    }\n",
              "\n",
              "    .colab-df-convert {\n",
              "      background-color: #E8F0FE;\n",
              "      border: none;\n",
              "      border-radius: 50%;\n",
              "      cursor: pointer;\n",
              "      display: none;\n",
              "      fill: #1967D2;\n",
              "      height: 32px;\n",
              "      padding: 0 0 0 0;\n",
              "      width: 32px;\n",
              "    }\n",
              "\n",
              "    .colab-df-convert:hover {\n",
              "      background-color: #E2EBFA;\n",
              "      box-shadow: 0px 1px 2px rgba(60, 64, 67, 0.3), 0px 1px 3px 1px rgba(60, 64, 67, 0.15);\n",
              "      fill: #174EA6;\n",
              "    }\n",
              "\n",
              "    [theme=dark] .colab-df-convert {\n",
              "      background-color: #3B4455;\n",
              "      fill: #D2E3FC;\n",
              "    }\n",
              "\n",
              "    [theme=dark] .colab-df-convert:hover {\n",
              "      background-color: #434B5C;\n",
              "      box-shadow: 0px 1px 3px 1px rgba(0, 0, 0, 0.15);\n",
              "      filter: drop-shadow(0px 1px 2px rgba(0, 0, 0, 0.3));\n",
              "      fill: #FFFFFF;\n",
              "    }\n",
              "  </style>\n",
              "\n",
              "      <script>\n",
              "        const buttonEl =\n",
              "          document.querySelector('#df-5f1fd98b-e6d0-4fcd-895d-1bd0fdc1085c button.colab-df-convert');\n",
              "        buttonEl.style.display =\n",
              "          google.colab.kernel.accessAllowed ? 'block' : 'none';\n",
              "\n",
              "        async function convertToInteractive(key) {\n",
              "          const element = document.querySelector('#df-5f1fd98b-e6d0-4fcd-895d-1bd0fdc1085c');\n",
              "          const dataTable =\n",
              "            await google.colab.kernel.invokeFunction('convertToInteractive',\n",
              "                                                     [key], {});\n",
              "          if (!dataTable) return;\n",
              "\n",
              "          const docLinkHtml = 'Like what you see? Visit the ' +\n",
              "            '<a target=\"_blank\" href=https://colab.research.google.com/notebooks/data_table.ipynb>data table notebook</a>'\n",
              "            + ' to learn more about interactive tables.';\n",
              "          element.innerHTML = '';\n",
              "          dataTable['output_type'] = 'display_data';\n",
              "          await google.colab.output.renderOutput(dataTable, element);\n",
              "          const docLink = document.createElement('div');\n",
              "          docLink.innerHTML = docLinkHtml;\n",
              "          element.appendChild(docLink);\n",
              "        }\n",
              "      </script>\n",
              "    </div>\n",
              "  </div>\n",
              "  "
            ]
          },
          "metadata": {},
          "execution_count": 21
        }
      ],
      "source": [
        "df_close.describe()"
      ]
    },
    {
      "cell_type": "markdown",
      "metadata": {
        "id": "8k70ZxskRdfG"
      },
      "source": [
        "**2.1. Plotting the Time-series**"
      ]
    },
    {
      "cell_type": "code",
      "execution_count": 23,
      "metadata": {
        "colab": {
          "base_uri": "https://localhost:8080/",
          "height": 433
        },
        "id": "s14pMT_sRdfG",
        "outputId": "91aeb9fb-a175-4866-e611-1835cf3586a5"
      },
      "outputs": [
        {
          "output_type": "display_data",
          "data": {
            "text/plain": [
              "<Figure size 576x432 with 1 Axes>"
            ],
            "image/png": "[encoded data removed]"
          },
          "metadata": {
            "needs_background": "light"
          }
        }
      ],
      "source": [
        "import matplotlib.pyplot as plt\n",
        "from pandas.plotting import register_matplotlib_converters\n",
        "register_matplotlib_converters()\n",
        "\n",
        "plt.figure(figsize=(8, 6))\n",
        "plt.plot(df_close, color='g')\n",
        "plt.title('Bitcoin Closing Price', weight='bold', fontsize=16)\n",
        "plt.xlabel('Time', weight='bold', fontsize=14)\n",
        "plt.ylabel('USD ($)', weight='bold', fontsize=14)\n",
        "plt.xticks(weight='bold', fontsize=12, rotation=45)\n",
        "plt.yticks(weight='bold', fontsize=12)\n",
        "plt.grid(color = 'y', linewidth = 0.5)"
      ]
    },
    {
      "cell_type": "markdown",
      "metadata": {
        "id": "zft-7BpKRdfG"
      },
      "source": [
        "**3. Finding Regressor Inputs**\n",
        "\n",
        "There are many time-series forcasting techinques. First, there are the conventional statistical techniques like ARIMA, and exponential smoothing. Then there are other traditional approaches like Regression. Neural Networks have been popular in forecasting problems because of their ability to make predictions on non-linear complex data. Conventional statistical techniques don't work well with highly non-linear data. Multi-dimensional linear Regression has shown good results too on complex non-linear data (don't let the \"linear\" in it confuse you, it refers to the linear combination of input variables, the input variables themselves however can be expressed as higher degree polynomaials in the function that we are trying to model)\n",
        "\n",
        "But we will do our predciting using a Neural Network. There are two basic paths to implement a model.\n",
        "\n",
        "Some implement by considering the historical values of the very series they are trying to predict as the input regressors (variables). This approach assumes that the future values can be expressed as a fuction of the past values. The two things to determine are - which past values to use (how far back into the past we need to look), and the parameters of the function itself\n",
        "\n",
        "Many times, we also include input variables that are of very different nature than the time-series under observation. For example, in Electrical load forecating the weather time series (temperature) is used as one of the input variables. It makes sense since in most regions of our planet, temperature does affect the electrical power consumption. A drop in the temperate regions would have people using more of their heaters, and in sub-tropical or tropical regions, a rise in temperatue typically drives the air-conditioning load.\n",
        "\n",
        "Okay. So, first see how far into the past we need to look."
      ]
    },
    {
      "cell_type": "markdown",
      "metadata": {
        "id": "TVTUoPWoRdfH"
      },
      "source": [
        "**3.1. Autocorrelation plot**"
      ]
    },
    {
      "cell_type": "code",
      "execution_count": 24,
      "metadata": {
        "colab": {
          "base_uri": "https://localhost:8080/",
          "height": 403
        },
        "id": "FGoybeFfRdfH",
        "outputId": "8c35b309-1a2a-404f-eb1b-8ff9e0d71403"
      },
      "outputs": [
        {
          "output_type": "stream",
          "name": "stderr",
          "text": [
            "/usr/local/lib/python3.7/dist-packages/statsmodels/tools/_testing.py:19: FutureWarning: pandas.util.testing is deprecated. Use the functions in the public API at pandas.testing instead.\n",
            "  import pandas.util.testing as tm\n"
          ]
        },
        {
          "output_type": "display_data",
          "data": {
            "text/plain": [
              "<Figure size 504x360 with 1 Axes>"
            ],
            "image/png": "[encoded data removed]"
          },
          "metadata": {
            "needs_background": "light"
          }
        }
      ],
      "source": [
        "from statsmodels.tsa import stattools\n",
        "\n",
        "acf_djia, confint_djia, qstat_djia, pvalues_djia = stattools.acf(df_close,\n",
        "                                                             unbiased=True,\n",
        "                                                             nlags=50,\n",
        "                                                             qstat=True,\n",
        "                                                             fft=True,\n",
        "                                                             alpha = 0.05)\n",
        "\n",
        "plt.figure(figsize=(7, 5))\n",
        "plt.plot(pd.Series(acf_djia), color='r', linewidth=2)\n",
        "plt.title('Autocorrelation of Bitcoin Closing Price', weight='bold', fontsize=16)\n",
        "plt.xlabel('Lag', weight='bold', fontsize=14)\n",
        "plt.ylabel('Value', weight='bold', fontsize=14)\n",
        "plt.xticks(weight='bold', fontsize=12, rotation=45)\n",
        "plt.yticks(weight='bold', fontsize=12)\n",
        "plt.grid(color = 'y', linewidth = 0.5)"
      ]
    },
    {
      "cell_type": "markdown",
      "metadata": {
        "id": "5xIj7xmLRdfH"
      },
      "source": [
        "To see which past variables can be used as input in our model, we check the auto-correlation of the time-series. Most of you must be familiar with correlation. It's a way to measure the strength of association between any two variables. As the correlation value approaches 1, it indicates high postive association. Correlation near 0 indicates almost no association at all, and a values near -1 would indicate strong negative correlation.\n",
        "\n",
        "In autocorrelation, we take the time-series value at current instant as one variable and one of the values from a time-instant in the past as the other variable, and find the correlation between them.\n",
        "\n",
        "Here, I have used 'stattools.acf' (acf for autocorrelation fucntion) to plot the autocorrelation with 50 past time-instants (lags). It's from the 'statsmodels' library. It's a great tool for doing a wide range of statistical analysis. Don't worry if you don't get this particular fuction in the first look. All you need to know is that is this function returns four outputs, out of which the first one which I have assigned the name 'acf_djia' is the list containing autocorrelation values of the number of lags ('nlags') specified.\n",
        "\n",
        "Choosing a lot of input attributes, specially if they don't have a high enough correlation with the target attribute, could actually harm us. I will select all the lags (past values) that have at least a correlation of 0.9 with the present value. From the plot we can see that number is 15."
      ]
    },
    {
      "cell_type": "markdown",
      "metadata": {
        "id": "hu8XBRZ_RdfH"
      },
      "source": [
        "TLDR : What this means is that we will use the closing price of past 15 days to predict the closing price of any particular day. \n",
        "\n",
        "So, if you have the closing prices of any particular stock up until today, you can use this model to predict the closing price tomorrow.\n",
        "\n",
        "Well, you only need today's closing price and the closing price of past fourteen days to predict tomorrow's closing price.\n",
        "\n",
        "We still do need all the hsitorical data that we have to train, and test out model."
      ]
    },
    {
      "cell_type": "markdown",
      "metadata": {
        "id": "A-x1XKLgRdfI"
      },
      "source": [
        "**3.2. Creation of dataset for training**\n",
        "\n",
        "Right now we only have one column - the actual closing price of Bitcoin (apart from the datetime index of course). To train our neural network, we have decided to use the past 15 values as inputs with the value at any corresponding time instant. This means we will have now an additional 15 columns where each row will have the closing price at any day and the corresponding prices of the past fifteen days.\n",
        "\n",
        "I have created a function to create those columns. "
      ]
    },
    {
      "cell_type": "code",
      "execution_count": 25,
      "metadata": {
        "id": "d2A-4W9FRdfI"
      },
      "outputs": [],
      "source": [
        "def create_regressor_attributes(df, attribute, list_of_prev_t_instants) :\n",
        "    \n",
        "    \"\"\"\n",
        "    Ensure that the index is of datetime type\n",
        "    Creates features with previous time instant values\n",
        "    \"\"\"\n",
        "        \n",
        "    list_of_prev_t_instants.sort()\n",
        "    start = list_of_prev_t_instants[-1] \n",
        "    end = len(df)\n",
        "    df['datetime'] = df.index\n",
        "    df.reset_index(drop=True)\n",
        "\n",
        "    df_copy = df[start:end]\n",
        "    df_copy.reset_index(inplace=True, drop=True)\n",
        "\n",
        "    for attribute in attribute :\n",
        "            foobar = pd.DataFrame()\n",
        "\n",
        "            for prev_t in list_of_prev_t_instants :\n",
        "                new_col = pd.DataFrame(df[attribute].iloc[(start - prev_t) : (end - prev_t)])\n",
        "                new_col.reset_index(drop=True, inplace=True)\n",
        "                new_col.rename(columns={attribute : '{}_(t-{})'.format(attribute, prev_t)}, inplace=True)\n",
        "                foobar = pd.concat([foobar, new_col], sort=False, axis=1)\n",
        "\n",
        "            df_copy = pd.concat([df_copy, foobar], sort=False, axis=1)\n",
        "            \n",
        "    df_copy.set_index(['datetime'], drop=True, inplace=True)\n",
        "    return df_copy"
      ]
    },
    {
      "cell_type": "code",
      "execution_count": 26,
      "metadata": {
        "colab": {
          "base_uri": "https://localhost:8080/"
        },
        "id": "boCOozbNRdfI",
        "outputId": "d8bbbdf4-f2d3-4f95-e17e-d8e777338126"
      },
      "outputs": [
        {
          "output_type": "execute_result",
          "data": {
            "text/plain": [
              "[1, 2, 3, 4, 5, 6, 7, 8, 9, 10, 11, 12, 13, 14, 15]"
            ]
          },
          "metadata": {},
          "execution_count": 26
        }
      ],
      "source": [
        "list_of_attributes = ['Close']\n",
        "\n",
        "list_of_prev_t_instants = []\n",
        "for i in range(1,16):\n",
        "    list_of_prev_t_instants.append(i)\n",
        "\n",
        "list_of_prev_t_instants"
      ]
    },
    {
      "cell_type": "markdown",
      "metadata": {
        "id": "T7dOlBE2RdfI"
      },
      "source": [
        "Here, we only have one time-series that is the closing price everyday. Using the function that I've defined, we can create regressor attributes for muliple columns in a single dataframe. For example, say we want to model current electrical load using not only past load values but also past temperature values.\n",
        "\n",
        "Also, we can specify which past values to use exaclty in the form of a list. It's heplful in cases where the past regressors can be different than simply the previous fifteen values. In our case it is so because the auto-correlation line was an almost straight line with a negative line."
      ]
    },
    {
      "cell_type": "code",
      "execution_count": 27,
      "metadata": {
        "colab": {
          "base_uri": "https://localhost:8080/",
          "height": 237
        },
        "id": "jC2xh7uwRdfI",
        "outputId": "77b43c5a-8a10-476c-fdd2-4c946279146a"
      },
      "outputs": [
        {
          "output_type": "execute_result",
          "data": {
            "text/plain": [
              "                 Close  Close_(t-1)  Close_(t-2)  Close_(t-3)  Close_(t-4)  \\\n",
              "datetime                                                                     \n",
              "2017-01-17  907.937988   831.533997   821.797974   818.411987   823.984009   \n",
              "2017-01-18  886.617981   907.937988   831.533997   821.797974   818.411987   \n",
              "2017-01-19  899.072998   886.617981   907.937988   831.533997   821.797974   \n",
              "2017-01-20  895.026001   899.072998   886.617981   907.937988   831.533997   \n",
              "2017-01-21  921.789001   895.026001   899.072998   886.617981   907.937988   \n",
              "\n",
              "            Close_(t-5)  Close_(t-6)  Close_(t-7)  Close_(t-8)  Close_(t-9)  \\\n",
              "datetime                                                                      \n",
              "2017-01-17   804.833984   777.757019   907.679016   902.828003   911.198975   \n",
              "2017-01-18   823.984009   804.833984   777.757019   907.679016   902.828003   \n",
              "2017-01-19   818.411987   823.984009   804.833984   777.757019   907.679016   \n",
              "2017-01-20   821.797974   818.411987   823.984009   804.833984   777.757019   \n",
              "2017-01-21   831.533997   821.797974   818.411987   823.984009   804.833984   \n",
              "\n",
              "            Close_(t-10)  Close_(t-11)  Close_(t-12)  Close_(t-13)  \\\n",
              "datetime                                                             \n",
              "2017-01-17    908.585022    902.200989   1013.380005   1154.729980   \n",
              "2017-01-18    911.198975    908.585022    902.200989   1013.380005   \n",
              "2017-01-19    902.828003    911.198975    908.585022    902.200989   \n",
              "2017-01-20    907.679016    902.828003    911.198975    908.585022   \n",
              "2017-01-21    777.757019    907.679016    902.828003    911.198975   \n",
              "\n",
              "            Close_(t-14)  Close_(t-15)  \n",
              "datetime                                \n",
              "2017-01-17   1043.839966   1021.750000  \n",
              "2017-01-18   1154.729980   1043.839966  \n",
              "2017-01-19   1013.380005   1154.729980  \n",
              "2017-01-20    902.200989   1013.380005  \n",
              "2017-01-21    908.585022    902.200989  "
            ],
            "text/html": [
              "\n",
              "  <div id=\"df-25ab02cd-9d87-4c80-a3d7-e778569716fb\">\n",
              "    <div class=\"colab-df-container\">\n",
              "      <div>\n",
              "<style scoped>\n",
              "    .dataframe tbody tr th:only-of-type {\n",
              "        vertical-align: middle;\n",
              "    }\n",
              "\n",
              "    .dataframe tbody tr th {\n",
              "        vertical-align: top;\n",
              "    }\n",
              "\n",
              "    .dataframe thead th {\n",
              "        text-align: right;\n",
              "    }\n",
              "</style>\n",
              "<table border=\"1\" class=\"dataframe\">\n",
              "  <thead>\n",
              "    <tr style=\"text-align: right;\">\n",
              "      <th></th>\n",
              "      <th>Close</th>\n",
              "      <th>Close_(t-1)</th>\n",
              "      <th>Close_(t-2)</th>\n",
              "      <th>Close_(t-3)</th>\n",
              "      <th>Close_(t-4)</th>\n",
              "      <th>Close_(t-5)</th>\n",
              "      <th>Close_(t-6)</th>\n",
              "      <th>Close_(t-7)</th>\n",
              "      <th>Close_(t-8)</th>\n",
              "      <th>Close_(t-9)</th>\n",
              "      <th>Close_(t-10)</th>\n",
              "      <th>Close_(t-11)</th>\n",
              "      <th>Close_(t-12)</th>\n",
              "      <th>Close_(t-13)</th>\n",
              "      <th>Close_(t-14)</th>\n",
              "      <th>Close_(t-15)</th>\n",
              "    </tr>\n",
              "    <tr>\n",
              "      <th>datetime</th>\n",
              "      <th></th>\n",
              "      <th></th>\n",
              "      <th></th>\n",
              "      <th></th>\n",
              "      <th></th>\n",
              "      <th></th>\n",
              "      <th></th>\n",
              "      <th></th>\n",
              "      <th></th>\n",
              "      <th></th>\n",
              "      <th></th>\n",
              "      <th></th>\n",
              "      <th></th>\n",
              "      <th></th>\n",
              "      <th></th>\n",
              "      <th></th>\n",
              "    </tr>\n",
              "  </thead>\n",
              "  <tbody>\n",
              "    <tr>\n",
              "      <th>2017-01-17</th>\n",
              "      <td>907.937988</td>\n",
              "      <td>831.533997</td>\n",
              "      <td>821.797974</td>\n",
              "      <td>818.411987</td>\n",
              "      <td>823.984009</td>\n",
              "      <td>804.833984</td>\n",
              "      <td>777.757019</td>\n",
              "      <td>907.679016</td>\n",
              "      <td>902.828003</td>\n",
              "      <td>911.198975</td>\n",
              "      <td>908.585022</td>\n",
              "      <td>902.200989</td>\n",
              "      <td>1013.380005</td>\n",
              "      <td>1154.729980</td>\n",
              "      <td>1043.839966</td>\n",
              "      <td>1021.750000</td>\n",
              "    </tr>\n",
              "    <tr>\n",
              "      <th>2017-01-18</th>\n",
              "      <td>886.617981</td>\n",
              "      <td>907.937988</td>\n",
              "      <td>831.533997</td>\n",
              "      <td>821.797974</td>\n",
              "      <td>818.411987</td>\n",
              "      <td>823.984009</td>\n",
              "      <td>804.833984</td>\n",
              "      <td>777.757019</td>\n",
              "      <td>907.679016</td>\n",
              "      <td>902.828003</td>\n",
              "      <td>911.198975</td>\n",
              "      <td>908.585022</td>\n",
              "      <td>902.200989</td>\n",
              "      <td>1013.380005</td>\n",
              "      <td>1154.729980</td>\n",
              "      <td>1043.839966</td>\n",
              "    </tr>\n",
              "    <tr>\n",
              "      <th>2017-01-19</th>\n",
              "      <td>899.072998</td>\n",
              "      <td>886.617981</td>\n",
              "      <td>907.937988</td>\n",
              "      <td>831.533997</td>\n",
              "      <td>821.797974</td>\n",
              "      <td>818.411987</td>\n",
              "      <td>823.984009</td>\n",
              "      <td>804.833984</td>\n",
              "      <td>777.757019</td>\n",
              "      <td>907.679016</td>\n",
              "      <td>902.828003</td>\n",
              "      <td>911.198975</td>\n",
              "      <td>908.585022</td>\n",
              "      <td>902.200989</td>\n",
              "      <td>1013.380005</td>\n",
              "      <td>1154.729980</td>\n",
              "    </tr>\n",
              "    <tr>\n",
              "      <th>2017-01-20</th>\n",
              "      <td>895.026001</td>\n",
              "      <td>899.072998</td>\n",
              "      <td>886.617981</td>\n",
              "      <td>907.937988</td>\n",
              "      <td>831.533997</td>\n",
              "      <td>821.797974</td>\n",
              "      <td>818.411987</td>\n",
              "      <td>823.984009</td>\n",
              "      <td>804.833984</td>\n",
              "      <td>777.757019</td>\n",
              "      <td>907.679016</td>\n",
              "      <td>902.828003</td>\n",
              "      <td>911.198975</td>\n",
              "      <td>908.585022</td>\n",
              "      <td>902.200989</td>\n",
              "      <td>1013.380005</td>\n",
              "    </tr>\n",
              "    <tr>\n",
              "      <th>2017-01-21</th>\n",
              "      <td>921.789001</td>\n",
              "      <td>895.026001</td>\n",
              "      <td>899.072998</td>\n",
              "      <td>886.617981</td>\n",
              "      <td>907.937988</td>\n",
              "      <td>831.533997</td>\n",
              "      <td>821.797974</td>\n",
              "      <td>818.411987</td>\n",
              "      <td>823.984009</td>\n",
              "      <td>804.833984</td>\n",
              "      <td>777.757019</td>\n",
              "      <td>907.679016</td>\n",
              "      <td>902.828003</td>\n",
              "      <td>911.198975</td>\n",
              "      <td>908.585022</td>\n",
              "      <td>902.200989</td>\n",
              "    </tr>\n",
              "  </tbody>\n",
              "</table>\n",
              "</div>\n",
              "      <button class=\"colab-df-convert\" onclick=\"convertToInteractive('df-25ab02cd-9d87-4c80-a3d7-e778569716fb')\"\n",
              "              title=\"Convert this dataframe to an interactive table.\"\n",
              "              style=\"display:none;\">\n",
              "        \n",
              "  <svg xmlns=\"http://www.w3.org/2000/svg\" height=\"24px\"viewBox=\"0 0 24 24\"\n",
              "       width=\"24px\">\n",
              "    <path d=\"M0 0h24v24H0V0z\" fill=\"none\"/>\n",
              "    <path d=\"M18.56 5.44l.94 2.06.94-2.06 2.06-.94-2.06-.94-.94-2.06-.94 2.06-2.06.94zm-11 1L8.5 8.5l.94-2.06 2.06-.94-2.06-.94L8.5 2.5l-.94 2.06-2.06.94zm10 10l.94 2.06.94-2.06 2.06-.94-2.06-.94-.94-2.06-.94 2.06-2.06.94z\"/><path d=\"M17.41 7.96l-1.37-1.37c-.4-.4-.92-.59-1.43-.59-.52 0-1.04.2-1.43.59L10.3 9.45l-7.72 7.72c-.78.78-.78 2.05 0 2.83L4 21.41c.39.39.9.59 1.41.59.51 0 1.02-.2 1.41-.59l7.78-7.78 2.81-2.81c.8-.78.8-2.07 0-2.86zM5.41 20L4 18.59l7.72-7.72 1.47 1.35L5.41 20z\"/>\n",
              "  </svg>\n",
              "      </button>\n",
              "      \n",
              "  <style>\n",
              "    .colab-df-container {\n",
              "      display:flex;\n",
              "      flex-wrap:wrap;\n",
              "      gap: 12px;\n",
              "    }\n",
              "\n",
              "    .colab-df-convert {\n",
              "      background-color: #E8F0FE;\n",
              "      border: none;\n",
              "      border-radius: 50%;\n",
              "      cursor: pointer;\n",
              "      display: none;\n",
              "      fill: #1967D2;\n",
              "      height: 32px;\n",
              "      padding: 0 0 0 0;\n",
              "      width: 32px;\n",
              "    }\n",
              "\n",
              "    .colab-df-convert:hover {\n",
              "      background-color: #E2EBFA;\n",
              "      box-shadow: 0px 1px 2px rgba(60, 64, 67, 0.3), 0px 1px 3px 1px rgba(60, 64, 67, 0.15);\n",
              "      fill: #174EA6;\n",
              "    }\n",
              "\n",
              "    [theme=dark] .colab-df-convert {\n",
              "      background-color: #3B4455;\n",
              "      fill: #D2E3FC;\n",
              "    }\n",
              "\n",
              "    [theme=dark] .colab-df-convert:hover {\n",
              "      background-color: #434B5C;\n",
              "      box-shadow: 0px 1px 3px 1px rgba(0, 0, 0, 0.15);\n",
              "      filter: drop-shadow(0px 1px 2px rgba(0, 0, 0, 0.3));\n",
              "      fill: #FFFFFF;\n",
              "    }\n",
              "  </style>\n",
              "\n",
              "      <script>\n",
              "        const buttonEl =\n",
              "          document.querySelector('#df-25ab02cd-9d87-4c80-a3d7-e778569716fb button.colab-df-convert');\n",
              "        buttonEl.style.display =\n",
              "          google.colab.kernel.accessAllowed ? 'block' : 'none';\n",
              "\n",
              "        async function convertToInteractive(key) {\n",
              "          const element = document.querySelector('#df-25ab02cd-9d87-4c80-a3d7-e778569716fb');\n",
              "          const dataTable =\n",
              "            await google.colab.kernel.invokeFunction('convertToInteractive',\n",
              "                                                     [key], {});\n",
              "          if (!dataTable) return;\n",
              "\n",
              "          const docLinkHtml = 'Like what you see? Visit the ' +\n",
              "            '<a target=\"_blank\" href=https://colab.research.google.com/notebooks/data_table.ipynb>data table notebook</a>'\n",
              "            + ' to learn more about interactive tables.';\n",
              "          element.innerHTML = '';\n",
              "          dataTable['output_type'] = 'display_data';\n",
              "          await google.colab.output.renderOutput(dataTable, element);\n",
              "          const docLink = document.createElement('div');\n",
              "          docLink.innerHTML = docLinkHtml;\n",
              "          element.appendChild(docLink);\n",
              "        }\n",
              "      </script>\n",
              "    </div>\n",
              "  </div>\n",
              "  "
            ]
          },
          "metadata": {},
          "execution_count": 27
        }
      ],
      "source": [
        "df_new = create_regressor_attributes(df_close, list_of_attributes, list_of_prev_t_instants)\n",
        "df_new.head()"
      ]
    },
    {
      "cell_type": "code",
      "execution_count": 28,
      "metadata": {
        "colab": {
          "base_uri": "https://localhost:8080/"
        },
        "id": "kpCIUomfRdfJ",
        "outputId": "58c6a49f-cc97-4a2f-b52c-e4d390b50f27"
      },
      "outputs": [
        {
          "output_type": "execute_result",
          "data": {
            "text/plain": [
              "(1940, 16)"
            ]
          },
          "metadata": {},
          "execution_count": 28
        }
      ],
      "source": [
        "df_new.shape"
      ]
    },
    {
      "cell_type": "markdown",
      "metadata": {
        "id": "hHJudn2XRdfJ"
      },
      "source": [
        ""
      ]
    },
    {
      "cell_type": "markdown",
      "metadata": {
        "id": "3dIUP3wwRdfJ"
      },
      "source": [
        "Okay, phew..\n",
        "\n",
        "We have out dataset. Let's now build our neural network."
      ]
    },
    {
      "cell_type": "markdown",
      "metadata": {
        "id": "jXIBZp56RdfJ"
      },
      "source": [
        "**4. Making the neural Network**"
      ]
    },
    {
      "cell_type": "markdown",
      "metadata": {
        "id": "STR-QZjoRdfJ"
      },
      "source": [
        "I will be training a simple Multi-layer Perceptron that has an input layer with 15 nodes (accounting for each of the 15 past regressor inputs).\n",
        "\n",
        "It will have 2 hidden layers (yeah, 2 and that's what makes it \"DEEP\", nothing more, nothing less). I'll consider 60 nodes in each.\n",
        "\n",
        "Why 60? I tried a lot of trials and combinations, and I was satisfied with the results of this one. \n",
        "\n",
        "And hyperparameter tuning (adjusting the model parameters to find the optimal combination) won't be a part of this exercise. \n"
      ]
    },
    {
      "cell_type": "code",
      "execution_count": 29,
      "metadata": {
        "id": "dvsS6_MYRdfJ"
      },
      "outputs": [],
      "source": [
        "from tensorflow.keras.layers import Input, Dense, Dropout\n",
        "from tensorflow.keras.optimizers import SGD\n",
        "from tensorflow.keras.models import Model\n",
        "from tensorflow.keras.models import load_model\n",
        "from tensorflow.keras.callbacks import ModelCheckpoint"
      ]
    },
    {
      "cell_type": "code",
      "execution_count": 30,
      "metadata": {
        "id": "PbsJ8fpwRdfK"
      },
      "outputs": [],
      "source": [
        "input_layer = Input(shape=(15), dtype='float32')\n",
        "dense1 = Dense(60, activation='linear')(input_layer)\n",
        "dense2 = Dense(60, activation='linear')(dense1)\n",
        "dropout_layer = Dropout(0.2)(dense2)\n",
        "output_layer = Dense(1, activation='linear')(dropout_layer)"
      ]
    },
    {
      "cell_type": "code",
      "execution_count": 31,
      "metadata": {
        "colab": {
          "base_uri": "https://localhost:8080/"
        },
        "id": "tfXLpgJyRdfK",
        "outputId": "9c17fe26-8902-4904-c2a2-426ba6f354aa"
      },
      "outputs": [
        {
          "output_type": "stream",
          "name": "stdout",
          "text": [
            "Model: \"model\"\n",
            "_________________________________________________________________\n",
            " Layer (type)                Output Shape              Param #   \n",
            "=================================================================\n",
            " input_1 (InputLayer)        [(None, 15)]              0         \n",
            "                                                                 \n",
            " dense (Dense)               (None, 60)                960       \n",
            "                                                                 \n",
            " dense_1 (Dense)             (None, 60)                3660      \n",
            "                                                                 \n",
            " dropout (Dropout)           (None, 60)                0         \n",
            "                                                                 \n",
            " dense_2 (Dense)             (None, 1)                 61        \n",
            "                                                                 \n",
            "=================================================================\n",
            "Total params: 4,681\n",
            "Trainable params: 4,681\n",
            "Non-trainable params: 0\n",
            "_________________________________________________________________\n"
          ]
        }
      ],
      "source": [
        "model = Model(inputs=input_layer, outputs=output_layer)\n",
        "model.compile(loss='mean_squared_error', optimizer='adam')\n",
        "model.summary()"
      ]
    },
    {
      "cell_type": "code",
      "execution_count": 32,
      "metadata": {
        "colab": {
          "base_uri": "https://localhost:8080/",
          "height": 466
        },
        "id": "nTB09JUBRdfK",
        "outputId": "86857507-6a77-4b90-fd61-0c4f5654e6b2"
      },
      "outputs": [
        {
          "output_type": "execute_result",
          "data": {
            "text/plain": [
              "<IPython.core.display.Image object>"
            ],
            "image/png": "[encoded data removed]"
          },
          "metadata": {},
          "execution_count": 32
        }
      ],
      "source": [
        "from tensorflow.keras.utils import plot_model\n",
        "plot_model(model)"
      ]
    },
    {
      "cell_type": "markdown",
      "metadata": {
        "id": "rzUQcAvaRdfK"
      },
      "source": [
        "Those familiar with Neural networks and Keras can skip this part. \n",
        "\n",
        "Those very new to Machine Learning can have a glance to absorb enough to move forward. \n",
        "\n",
        "An input layer only has nodes. It's only job is take in the data and pass it on the hidden layer.\n",
        "\n",
        "A dense layer has the links (edges) connected to it, with weights and everything. It also has an activation function.\n",
        "\n",
        "The data from each input node gets multiplied with the weights of the links via which those input nodes are connected to the first hidden layer. Each node of the hidden layer then combines all the inputs to it (one from each input node) and passes through an activation fuction.\n",
        "\n",
        "Similar process repeats for the second hidden layer.\n",
        "\n",
        "A dropout layer is added before the output layer. It drops a certain percentage (20% in our case) of the links randomly, that are connected to the output node. It's a good practice and generally helps in curbing overfitting.\n",
        "\n",
        "We simply define each layer and the preceding layer it's connected to, and then package them all together using the function 'Model'\n",
        "\n",
        "The 15 new columns dataframe (df_new) will be passed through this network, one row at a time. The network will spit out an answer which will be compared with the value in the first column. This first prediction will be based on weights that mare set randomly. The error in the prediction will be used to change the weights in such a way that the prediction is better.\n",
        "\n",
        "This will happen for all the 1034 rows. We can adjust the weights after passing through multiple samples (rows) in what we call a \"batch\". When all the rows have passed in this way, we say one \"epoch\" is over. We go through many epochs.\n",
        "\n",
        "But how many epochs do we have to go through, you ask? You already might have guessed. When we get the feel that out neural network model has captured the patterns in the data and is in a position to make predictions. How do we ensure that?\n",
        "\n",
        "What we do is hold out a few samples of data as a validation set. We don't use them for training (i.e for updating the weights). We only run the validation set after every epoch, and check the error. We also keep a track of the training error but it's not as important as validation error since the training error is what adjusts the weights. So, in a sense the training data is what the network soaks in. The validation data is something it doesn't soak in. As we keep checking the errors, only when the validation error has come down to near the training error, we stop further training.\n",
        "\n",
        "There are many ways to calcualte error. Here, we have used \"mean_squared_error\", and also used the \"adam\" optimizer algorith that is responsible for updating the weights (see \"model.compile\" part).\n",
        "\n",
        "We can also hold out an additional test set just to see how out new baby performs on more unseen data."
      ]
    },
    {
      "cell_type": "markdown",
      "metadata": {
        "id": "ONEhcHzXRdfL"
      },
      "source": [
        "**5. Spliting the data**"
      ]
    },
    {
      "cell_type": "markdown",
      "metadata": {
        "id": "AEdWswtDRdfL"
      },
      "source": [
        "We will separate out 5% of the samples (rows) in a random fashion for later testing purposes. \n",
        "\n",
        "The remaining 95 % is again split randomly. Some 5% of it is used as validation set and the remaining as training set.\n",
        "\n",
        "All this splitting happens row wise.\n",
        "\n",
        "Note that we also need to split it column wise as well. The first column are our actual values (target). These aren't fed to the neural network. The remaining 15 columns (input regressors) are fed to it.\n",
        "\n",
        "So, the slicing of data happens both row wise and column wise. The sliced dataframes having only the regressor input columns typically have a \"X\" in the names we assign them, and the sliced dataframes (or series) with only the actual values (also called target values, as in being \"targets\" for the neural netwroks to accurately predict while training) have a \"y\" in the names we assign them.\n",
        "\n",
        "Note that since this is time-series data, splitting the dataset randomly isn't a sensible thought. So, for time-series data, we will simply split in an orderly fashion."
      ]
    },
    {
      "cell_type": "code",
      "source": [
        "import numpy as np"
      ],
      "metadata": {
        "id": "VcVXRKiXTTE6"
      },
      "execution_count": 34,
      "outputs": []
    },
    {
      "cell_type": "code",
      "execution_count": 35,
      "metadata": {
        "colab": {
          "base_uri": "https://localhost:8080/"
        },
        "id": "m3t-ZO_CRdfL",
        "outputId": "acdc67f2-3673-42ef-e280-05e3afac533d"
      },
      "outputs": [
        {
          "output_type": "stream",
          "name": "stdout",
          "text": [
            "Shape of training inputs, training target: (1750, 15) (1750,)\n",
            "Shape of validation inputs, validation target: (93, 15) (93,)\n",
            "Shape of test inputs, test target: (97, 15) (97,)\n"
          ]
        }
      ],
      "source": [
        "test_set_size = 0.05\n",
        "valid_set_size= 0.05\n",
        "\n",
        "df_copy = df_new.reset_index(drop=True)\n",
        "\n",
        "df_test = df_copy.iloc[ int(np.floor(len(df_copy)*(1-test_set_size))) : ]\n",
        "df_train_plus_valid = df_copy.iloc[ : int(np.floor(len(df_copy)*(1-test_set_size))) ]\n",
        "\n",
        "df_train = df_train_plus_valid.iloc[ : int(np.floor(len(df_train_plus_valid)*(1-valid_set_size))) ]\n",
        "df_valid = df_train_plus_valid.iloc[ int(np.floor(len(df_train_plus_valid)*(1-valid_set_size))) : ]\n",
        "\n",
        "\n",
        "X_train, y_train = df_train.iloc[:, 1:], df_train.iloc[:, 0]\n",
        "X_valid, y_valid = df_valid.iloc[:, 1:], df_valid.iloc[:, 0]\n",
        "X_test, y_test = df_test.iloc[:, 1:], df_test.iloc[:, 0]\n",
        "\n",
        "print('Shape of training inputs, training target:', X_train.shape, y_train.shape)\n",
        "print('Shape of validation inputs, validation target:', X_valid.shape, y_valid.shape)\n",
        "print('Shape of test inputs, test target:', X_test.shape, y_test.shape)"
      ]
    },
    {
      "cell_type": "markdown",
      "metadata": {
        "id": "O9KZY8sjRdfL"
      },
      "source": [
        "**6. Scaling the data**"
      ]
    },
    {
      "cell_type": "markdown",
      "metadata": {
        "id": "SLTeapFxRdfL"
      },
      "source": [
        "We will normalize our data in the range in the range (0.01, 0.99) before feeding it to the the neural network."
      ]
    },
    {
      "cell_type": "markdown",
      "metadata": {
        "id": "jtcRCyPdRdfL"
      },
      "source": [
        "Note that MinMaxScaler() function takes in dataframes or series (can also take in arrays), but it always returns n-dimensional arrays."
      ]
    },
    {
      "cell_type": "code",
      "execution_count": 36,
      "metadata": {
        "id": "rR-C3daiRdfL"
      },
      "outputs": [],
      "source": [
        "from sklearn.preprocessing import MinMaxScaler\n",
        "\n",
        "Target_scaler = MinMaxScaler(feature_range=(0.01, 0.99))\n",
        "Feature_scaler = MinMaxScaler(feature_range=(0.01, 0.99))\n",
        "\n",
        "X_train_scaled = Feature_scaler.fit_transform(np.array(X_train))\n",
        "X_valid_scaled = Feature_scaler.fit_transform(np.array(X_valid))\n",
        "X_test_scaled = Feature_scaler.fit_transform(np.array(X_test))\n",
        "\n",
        "y_train_scaled = Target_scaler.fit_transform(np.array(y_train).reshape(-1,1))\n",
        "y_valid_scaled = Target_scaler.fit_transform(np.array(y_valid).reshape(-1,1))\n",
        "y_test_scaled = Target_scaler.fit_transform(np.array(y_test).reshape(-1,1))"
      ]
    },
    {
      "cell_type": "markdown",
      "metadata": {
        "id": "9eyyJsP6RdfM"
      },
      "source": [
        "So, the data is ready. The neural network is ready. Let's go."
      ]
    },
    {
      "cell_type": "markdown",
      "metadata": {
        "id": "4e5EYIXmRdfM"
      },
      "source": [
        "**7. Training and Validation**"
      ]
    },
    {
      "cell_type": "code",
      "execution_count": 37,
      "metadata": {
        "colab": {
          "base_uri": "https://localhost:8080/"
        },
        "id": "yW3Qu_EgRdfM",
        "outputId": "8c5fcc13-3664-483f-d5d3-a79200a99848"
      },
      "outputs": [
        {
          "output_type": "stream",
          "name": "stdout",
          "text": [
            "Epoch 1/30\n",
            "350/350 [==============================] - 3s 4ms/step - loss: 0.0123 - val_loss: 0.0092\n",
            "Epoch 2/30\n",
            "350/350 [==============================] - 1s 2ms/step - loss: 0.0025 - val_loss: 0.0064\n",
            "Epoch 3/30\n",
            "350/350 [==============================] - 1s 2ms/step - loss: 0.0021 - val_loss: 0.0072\n",
            "Epoch 4/30\n",
            "350/350 [==============================] - 1s 2ms/step - loss: 0.0016 - val_loss: 0.0127\n",
            "Epoch 5/30\n",
            "350/350 [==============================] - 1s 2ms/step - loss: 0.0019 - val_loss: 0.0030\n",
            "Epoch 6/30\n",
            "350/350 [==============================] - 1s 2ms/step - loss: 0.0013 - val_loss: 0.0031\n",
            "Epoch 7/30\n",
            "350/350 [==============================] - 1s 2ms/step - loss: 0.0015 - val_loss: 0.0043\n",
            "Epoch 8/30\n",
            "350/350 [==============================] - 1s 2ms/step - loss: 0.0011 - val_loss: 0.0032\n",
            "Epoch 9/30\n",
            "350/350 [==============================] - 1s 2ms/step - loss: 0.0011 - val_loss: 0.0036\n",
            "Epoch 10/30\n",
            "350/350 [==============================] - 1s 2ms/step - loss: 0.0010 - val_loss: 0.0059\n",
            "Epoch 11/30\n",
            "350/350 [==============================] - 1s 2ms/step - loss: 0.0012 - val_loss: 0.0076\n",
            "Epoch 12/30\n",
            "350/350 [==============================] - 1s 2ms/step - loss: 0.0011 - val_loss: 0.0033\n",
            "Epoch 13/30\n",
            "350/350 [==============================] - 1s 2ms/step - loss: 0.0012 - val_loss: 0.0028\n",
            "Epoch 14/30\n",
            "350/350 [==============================] - 1s 2ms/step - loss: 0.0010 - val_loss: 0.0048\n",
            "Epoch 15/30\n",
            "350/350 [==============================] - 1s 2ms/step - loss: 9.9195e-04 - val_loss: 0.0032\n",
            "Epoch 16/30\n",
            "350/350 [==============================] - 1s 2ms/step - loss: 9.5352e-04 - val_loss: 0.0030\n",
            "Epoch 17/30\n",
            "350/350 [==============================] - 1s 2ms/step - loss: 8.3304e-04 - val_loss: 0.0053\n",
            "Epoch 18/30\n",
            "350/350 [==============================] - 1s 2ms/step - loss: 8.1590e-04 - val_loss: 0.0028\n",
            "Epoch 19/30\n",
            "350/350 [==============================] - 1s 2ms/step - loss: 8.9883e-04 - val_loss: 0.0030\n",
            "Epoch 20/30\n",
            "350/350 [==============================] - 1s 2ms/step - loss: 0.0010 - val_loss: 0.0050\n",
            "Epoch 21/30\n",
            "350/350 [==============================] - 1s 2ms/step - loss: 6.6316e-04 - val_loss: 0.0025\n",
            "Epoch 22/30\n",
            "350/350 [==============================] - 1s 2ms/step - loss: 8.2843e-04 - val_loss: 0.0041\n",
            "Epoch 23/30\n",
            "350/350 [==============================] - 1s 2ms/step - loss: 8.0061e-04 - val_loss: 0.0030\n",
            "Epoch 24/30\n",
            "350/350 [==============================] - 1s 2ms/step - loss: 9.6898e-04 - val_loss: 0.0031\n",
            "Epoch 25/30\n",
            "350/350 [==============================] - 1s 2ms/step - loss: 8.5390e-04 - val_loss: 0.0057\n",
            "Epoch 26/30\n",
            "350/350 [==============================] - 1s 2ms/step - loss: 9.5609e-04 - val_loss: 0.0042\n",
            "Epoch 27/30\n",
            "350/350 [==============================] - 1s 2ms/step - loss: 8.9138e-04 - val_loss: 0.0029\n",
            "Epoch 28/30\n",
            "350/350 [==============================] - 1s 2ms/step - loss: 8.2412e-04 - val_loss: 0.0043\n",
            "Epoch 29/30\n",
            "350/350 [==============================] - 1s 2ms/step - loss: 8.2753e-04 - val_loss: 0.0033\n",
            "Epoch 30/30\n",
            "350/350 [==============================] - 1s 2ms/step - loss: 9.6071e-04 - val_loss: 0.0030\n"
          ]
        },
        {
          "output_type": "execute_result",
          "data": {
            "text/plain": [
              "<keras.callbacks.History at 0x7f0d52929b90>"
            ]
          },
          "metadata": {},
          "execution_count": 37
        }
      ],
      "source": [
        "model.fit(x=X_train_scaled, y=y_train_scaled, batch_size=5, epochs=30, verbose=1, validation_data=(X_valid_scaled, y_valid_scaled), shuffle=True)"
      ]
    },
    {
      "cell_type": "markdown",
      "metadata": {
        "id": "qy9ZHx1wRdfM"
      },
      "source": [
        "In case the validation loss had remained significantly more than the training loss at the end of training, but was continously coming down in the last few epochs, it would have been an indication that we need to run our model for more epochs, as the model needed more training.\n",
        "\n",
        "If the validation loss had remained significantly more than the training loss at the end of training, and also become more or less static, then it would have been an indication of \"overfitting\", that is our model works far too well on the training data, it has perfectly captured it, including the noise, but it would work poorly on unseen data. In such a case, it's advised to increase the value in the dropout layer, reduce number of epcohs, increase the batch size, reduce the number of hidden layers, reduce the number of nodes in the hidden layers.\n",
        "\n",
        "Our Validation loss doesn't seem to have changed much, specially when compared to the training loss. We can attribute that to the small number of training examples that we have, in the context of the model that we have used.\n",
        "\n",
        "LSTMs and CNNs may be able to give better results than a conventional NN on the same data. That's for another time. We only want to get our first hands on experience for now."
      ]
    },
    {
      "cell_type": "markdown",
      "metadata": {
        "id": "V-DSV7WmRdfM"
      },
      "source": [
        "**8. Making predictions on the test set**"
      ]
    },
    {
      "cell_type": "code",
      "execution_count": 38,
      "metadata": {
        "id": "xA6I797fRdfM"
      },
      "outputs": [],
      "source": [
        "y_pred = model.predict(X_test_scaled)"
      ]
    },
    {
      "cell_type": "markdown",
      "metadata": {
        "id": "CZCq6-G_RdfM"
      },
      "source": [
        "Recall that all our inputs and targets were scaled down in the range (0, 1). So, the predictions also lie in that range. We need to scale them back in the other direction"
      ]
    },
    {
      "cell_type": "code",
      "execution_count": 39,
      "metadata": {
        "id": "n5epcYYURdfN"
      },
      "outputs": [],
      "source": [
        "y_pred_rescaled = Target_scaler.inverse_transform(y_pred)"
      ]
    },
    {
      "cell_type": "markdown",
      "metadata": {
        "id": "TnL6uOowRdfN"
      },
      "source": [
        "**8.1. Checking the r2 score **"
      ]
    },
    {
      "cell_type": "markdown",
      "metadata": {
        "id": "eDQ_qm3ARdfN"
      },
      "source": [
        "One of the ways to measure the performance of our model on the test data is to compare the error of its predictions with respect to the true values. That could be mean squared error, or mean average error etc.\n",
        "\n",
        "We could also use use something called as r_squared (or r2) score. Just remember that like Regression, it measures the squared mean distance between true values and values lying the predictor hyperplane (our predicted values), and spits out a score between 0 and 1. More the r2 score closer to one, better the predictions of your model"
      ]
    },
    {
      "cell_type": "code",
      "execution_count": 40,
      "metadata": {
        "colab": {
          "base_uri": "https://localhost:8080/"
        },
        "id": "a95XA3tARdfN",
        "outputId": "2e03ead5-00f9-43ca-fbed-939bf7aa49ab"
      },
      "outputs": [
        {
          "output_type": "stream",
          "name": "stdout",
          "text": [
            "R-squared score for the test set: 0.6774\n"
          ]
        }
      ],
      "source": [
        "from sklearn.metrics import r2_score\n",
        "y_test_rescaled =  Target_scaler.inverse_transform(y_test_scaled)\n",
        "score = r2_score(y_test_rescaled, y_pred_rescaled)\n",
        "print('R-squared score for the test set:', round(score,4))"
      ]
    },
    {
      "cell_type": "markdown",
      "metadata": {
        "id": "R5Hq7tMgRdfN"
      },
      "source": [
        "**8.2 Plotting the predictions **"
      ]
    },
    {
      "cell_type": "markdown",
      "metadata": {
        "id": "OD02oGzqRdfN"
      },
      "source": [
        "We can add the datatime index so that it automatically takes care of the x-axis tick labels."
      ]
    },
    {
      "cell_type": "code",
      "execution_count": 41,
      "metadata": {
        "id": "xA47HMcTRdfN"
      },
      "outputs": [],
      "source": [
        "y_actual = pd.DataFrame(y_test_rescaled, columns=['Actual Close Price'])\n",
        "\n",
        "y_hat = pd.DataFrame(y_pred_rescaled, columns=['Predicted Close Price'])"
      ]
    },
    {
      "cell_type": "code",
      "execution_count": 42,
      "metadata": {
        "colab": {
          "base_uri": "https://localhost:8080/",
          "height": 427
        },
        "id": "qcAaQ-ecRdfO",
        "outputId": "c34f5372-549a-4854-b5a6-3bf44702c51f"
      },
      "outputs": [
        {
          "output_type": "display_data",
          "data": {
            "text/plain": [
              "<Figure size 792x432 with 1 Axes>"
            ],
            "image/png": "[encoded data removed]"
          },
          "metadata": {
            "needs_background": "light"
          }
        }
      ],
      "source": [
        "plt.figure(figsize=(11, 6))\n",
        "plt.plot(y_actual, linestyle='solid', color='r')\n",
        "plt.plot(y_hat, linestyle='dashed', color='b')\n",
        "\n",
        "plt.legend(['Actual','Predicted'], loc='best', prop={'size': 14})\n",
        "plt.title('Bitcoin Stock Closing Prices', weight='bold', fontsize=16)\n",
        "plt.ylabel('USD ($)', weight='bold', fontsize=14)\n",
        "plt.xlabel('Test Set Day no.', weight='bold', fontsize=14)\n",
        "plt.xticks(weight='bold', fontsize=12, rotation=45)\n",
        "plt.yticks(weight='bold', fontsize=12)\n",
        "plt.grid(color = 'y', linewidth='0.5')\n",
        "plt.show()"
      ]
    },
    {
      "cell_type": "markdown",
      "metadata": {
        "id": "kifeFrWlRdfO"
      },
      "source": [
        "the predictions are pretty reliable, at least for a forecasting horizon of one day.\n"
      ]
    }
  ],
  "metadata": {
    "kernelspec": {
      "display_name": "Python 3",
      "language": "python",
      "name": "python3"
    },
    "language_info": {
      "codemirror_mode": {
        "name": "ipython",
        "version": 3
      },
      "file_extension": ".py",
      "mimetype": "text/x-python",
      "name": "python",
      "nbconvert_exporter": "python",
      "pygments_lexer": "ipython3",
      "version": "3.8.8"
    },
    "toc": {
      "base_numbering": 1,
      "nav_menu": {},
      "number_sections": true,
      "sideBar": true,
      "skip_h1_title": false,
      "title_cell": "Table of Contents",
      "title_sidebar": "Contents",
      "toc_cell": false,
      "toc_position": {},
      "toc_section_display": true,
      "toc_window_display": false
    },
    "varInspector": {
      "cols": {
        "lenName": 16,
        "lenType": 16,
        "lenVar": 40
      },
      "kernels_config": {
        "python": {
          "delete_cmd_postfix": "",
          "delete_cmd_prefix": "del ",
          "library": "var_list.py",
          "varRefreshCmd": "print(var_dic_list())"
        },
        "r": {
          "delete_cmd_postfix": ") ",
          "delete_cmd_prefix": "rm(",
          "library": "var_list.r",
          "varRefreshCmd": "cat(var_dic_list()) "
        }
      },
      "types_to_exclude": [
        "module",
        "function",
        "builtin_function_or_method",
        "instance",
        "_Feature"
      ],
      "window_display": false
    },
    "colab": {
      "name": "time-series-prediction.ipynb",
      "provenance": [],
      "include_colab_link": true
    }
  },
  "nbformat": 4,
  "nbformat_minor": 0
}